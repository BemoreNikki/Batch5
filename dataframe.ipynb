{
 "cells": [
  {
   "cell_type": "code",
   "execution_count": 30,
   "id": "ab3ceab4",
   "metadata": {},
   "outputs": [],
   "source": [
    "import pandas as pd\n",
    "import random"
   ]
  },
  {
   "cell_type": "code",
   "execution_count": 31,
   "id": "57c94261",
   "metadata": {
    "scrolled": true
   },
   "outputs": [
    {
     "data": {
      "text/html": [
       "<div>\n",
       "<style scoped>\n",
       "    .dataframe tbody tr th:only-of-type {\n",
       "        vertical-align: middle;\n",
       "    }\n",
       "\n",
       "    .dataframe tbody tr th {\n",
       "        vertical-align: top;\n",
       "    }\n",
       "\n",
       "    .dataframe thead th {\n",
       "        text-align: right;\n",
       "    }\n",
       "</style>\n",
       "<table border=\"1\" class=\"dataframe\">\n",
       "  <thead>\n",
       "    <tr style=\"text-align: right;\">\n",
       "      <th></th>\n",
       "      <th>Cloth type</th>\n",
       "      <th>Consumer Demand(1000)</th>\n",
       "      <th>Past Produced quantity(500)</th>\n",
       "      <th>Rating(5)</th>\n",
       "      <th>Price(500)</th>\n",
       "      <th>Discount(100)</th>\n",
       "      <th>Production Rate</th>\n",
       "    </tr>\n",
       "  </thead>\n",
       "  <tbody>\n",
       "    <tr>\n",
       "      <th>0</th>\n",
       "      <td>Wool</td>\n",
       "      <td>602</td>\n",
       "      <td>438</td>\n",
       "      <td>3.0</td>\n",
       "      <td>353.1</td>\n",
       "      <td>50.0</td>\n",
       "      <td>68.698337</td>\n",
       "    </tr>\n",
       "    <tr>\n",
       "      <th>1</th>\n",
       "      <td>Leather</td>\n",
       "      <td>153</td>\n",
       "      <td>200</td>\n",
       "      <td>3.5</td>\n",
       "      <td>472.3</td>\n",
       "      <td>12.6</td>\n",
       "      <td>39.971496</td>\n",
       "    </tr>\n",
       "    <tr>\n",
       "      <th>2</th>\n",
       "      <td>Velvet</td>\n",
       "      <td>752</td>\n",
       "      <td>466</td>\n",
       "      <td>4.5</td>\n",
       "      <td>250.6</td>\n",
       "      <td>25.0</td>\n",
       "      <td>71.168646</td>\n",
       "    </tr>\n",
       "    <tr>\n",
       "      <th>3</th>\n",
       "      <td>Cotton</td>\n",
       "      <td>232</td>\n",
       "      <td>273</td>\n",
       "      <td>2.3</td>\n",
       "      <td>494.5</td>\n",
       "      <td>23.0</td>\n",
       "      <td>48.684086</td>\n",
       "    </tr>\n",
       "    <tr>\n",
       "      <th>4</th>\n",
       "      <td>Silk</td>\n",
       "      <td>341</td>\n",
       "      <td>178</td>\n",
       "      <td>4.0</td>\n",
       "      <td>499.2</td>\n",
       "      <td>18.0</td>\n",
       "      <td>49.415677</td>\n",
       "    </tr>\n",
       "  </tbody>\n",
       "</table>\n",
       "</div>"
      ],
      "text/plain": [
       "  Cloth type  Consumer Demand(1000)  Past Produced quantity(500)  Rating(5)   \n",
       "0       Wool                    602                          438        3.0  \\\n",
       "1    Leather                    153                          200        3.5   \n",
       "2     Velvet                    752                          466        4.5   \n",
       "3     Cotton                    232                          273        2.3   \n",
       "4       Silk                    341                          178        4.0   \n",
       "\n",
       "   Price(500)  Discount(100)  Production Rate  \n",
       "0       353.1           50.0        68.698337  \n",
       "1       472.3           12.6        39.971496  \n",
       "2       250.6           25.0        71.168646  \n",
       "3       494.5           23.0        48.684086  \n",
       "4       499.2           18.0        49.415677  "
      ]
     },
     "execution_count": 31,
     "metadata": {},
     "output_type": "execute_result"
    }
   ],
   "source": [
    "df=pd.read_excel('sample.xlsx')\n",
    "df.head(5)"
   ]
  },
  {
   "cell_type": "code",
   "execution_count": 32,
   "id": "5e3364db",
   "metadata": {},
   "outputs": [],
   "source": [
    "[w1,w2,w3,w4,w5]=[0.047,0.050,0.048,0.044,0.050]\n",
    "vals=[]"
   ]
  },
  {
   "cell_type": "code",
   "execution_count": 36,
   "id": "56ec6a0e",
   "metadata": {},
   "outputs": [],
   "source": [
    "for i in range(1000):\n",
    "    x1=random.randint(100,1000)\n",
    "    x2=random.randint(30,500)\n",
    "    x3=random.randint(0,5)\n",
    "    x4=random.randint(200,500)\n",
    "    x5=random.randint(1,50)\n",
    "    eq=w1*x1+w2*x2+w3*x3+w4*x4+w5*x5\n",
    "    vals.append([x1,x2,x3,x4,x5,eq])"
   ]
  },
  {
   "cell_type": "code",
   "execution_count": 37,
   "id": "1d58f929",
   "metadata": {},
   "outputs": [],
   "source": [
    "df = pd.DataFrame(vals,columns=['Consumer Demand','Past Produced quantity','Rating','Price','Dicount','Production Rate'])"
   ]
  },
  {
   "cell_type": "code",
   "execution_count": 38,
   "id": "c908a339",
   "metadata": {},
   "outputs": [],
   "source": [
    "df.to_csv('cse5.csv',index=False)"
   ]
  },
  {
   "cell_type": "code",
   "execution_count": null,
   "id": "df3fba74",
   "metadata": {},
   "outputs": [],
   "source": []
  }
 ],
 "metadata": {
  "kernelspec": {
   "display_name": "conda_python3",
   "language": "python",
   "name": "conda_python3"
  },
  "language_info": {
   "codemirror_mode": {
    "name": "ipython",
    "version": 3
   },
   "file_extension": ".py",
   "mimetype": "text/x-python",
   "name": "python",
   "nbconvert_exporter": "python",
   "pygments_lexer": "ipython3",
   "version": "3.10.10"
  }
 },
 "nbformat": 4,
 "nbformat_minor": 5
}
